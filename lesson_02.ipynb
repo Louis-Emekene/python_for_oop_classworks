{
 "cells": [
  {
   "cell_type": "markdown",
   "metadata": {},
   "source": [
    "Classes and Objects"
   ]
  },
  {
   "cell_type": "code",
   "execution_count": null,
   "metadata": {},
   "outputs": [],
   "source": [
    "class Student:\n",
    "    \"\"\"A simple student class\n",
    "    \"\"\"\n",
    "    def __init__(self, name, roll_num, marks):\n",
    "        self.name       = name\n",
    "        self.roll_num   = roll_num\n",
    "        self.marks      = marks"
   ]
  },
  {
   "cell_type": "code",
   "execution_count": null,
   "metadata": {},
   "outputs": [],
   "source": [
    "student1  = Student(\"Sohail\", 12345, 500)"
   ]
  },
  {
   "cell_type": "code",
   "execution_count": null,
   "metadata": {},
   "outputs": [],
   "source": []
  }
 ],
 "metadata": {
  "kernelspec": {
   "display_name": "Python 3.10.7 64-bit",
   "language": "python",
   "name": "python3"
  },
  "language_info": {
   "name": "python",
   "version": "3.10.7"
  },
  "orig_nbformat": 4,
  "vscode": {
   "interpreter": {
    "hash": "6f5b53ea504ebfa04f8fb7433339a268f74c2ccc58003020fc3ce3105a10d9ba"
   }
  }
 },
 "nbformat": 4,
 "nbformat_minor": 2
}

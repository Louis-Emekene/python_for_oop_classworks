{
 "cells": [
  {
   "cell_type": "markdown",
   "metadata": {},
   "source": [
    "### What is object-oriented programming?\n",
    "\n",
    "\n",
    "Object-oriented programming (OOP) is a computer programming model that organizes software design around data, or objects, rather than functions and logic. An object can be defined as a data field that has unique attributes and behavior.\n",
    "\n",
    "OOP focuses on the objects that developers want to manipulate rather than the logic required to manipulate them. This approach to programming is well-suited for programs that are large, complex and actively updated or maintained. This includes programs for manufacturing and design, as well as mobile applications; for example, OOP can be used for manufacturing system simulation software.\n",
    "\n",
    "The organization of an object-oriented program also makes the method beneficial to collaborative development, where projects are divided into groups. Additional benefits of OOP include code reusability, scalability and efficiency.\n",
    "\n",
    "The first step in OOP is to collect all of the objects a programmer wants to manipulate and identify how they relate to each other -- an exercise known as data modeling.\n",
    "\n",
    "Examples of an object can range from physical entities, such as a human being who is described by properties like name and address, to small computer programs, such as widgets.\n",
    "\n",
    "Once an object is known, it is labeled with a class of objects that defines the kind of data it contains and any logic sequences that can manipulate it. Each distinct logic sequence is known as a method. Objects can communicate with well-defined interfaces called messages."
   ]
  },
  {
   "cell_type": "markdown",
   "metadata": {},
   "source": [
    "### What is the structure of object-oriented programming?\n",
    "\n",
    "\n",
    "The structure, or building blocks, of object-oriented programming include the following:\n",
    "\n",
    "Classes are user-defined data types that act as the blueprint for individual objects, attributes and methods.\n",
    "\n",
    "Objects are instances of a class created with specifically defined data. Objects can correspond to real-world objects or an abstract entity. When class is defined initially, the description is the only object that is defined.\n",
    "\n",
    "Methods are functions that are defined inside a class that describe the behaviors of an object. Each method contained in class definitions starts with a reference to an instance object. Additionally, the subroutines contained in an object are called instance methods. Programmers use methods for reusability or keeping functionality encapsulated inside one object at a time.\n",
    "\n",
    "Attributes are defined in the class template and represent the state of an object. Objects will have data stored in the attributes field. Class attributes belong to the class itself."
   ]
  },
  {
   "cell_type": "markdown",
   "metadata": {},
   "source": [
    "### What are the main principles of OOP?\n",
    "\n",
    "\n",
    "Object-oriented programming is based on the following principles:\n",
    "\n",
    "Encapsulation. This principle states that all important information is contained inside an object and only select information is exposed. The implementation and state of each object are privately held inside a defined class. Other objects do not have access to this class or the authority to make changes. They are only able to call a list of public functions or methods. This characteristic of data hiding provides greater program security and avoids unintended data corruption.\n",
    "\n",
    "Abstraction. Objects only reveal internal mechanisms that are relevant for the use of other objects, hiding any unnecessary implementation code. The derived class can have its functionality extended. This concept can help developers more easily make additional changes or additions over time.\n",
    "\n",
    "Inheritance. Classes can reuse code from other classes. Relationships and subclasses between objects can be assigned, enabling developers to reuse common logic while still maintaining a unique hierarchy. This property of OOP forces a more thorough data analysis, reduces development time and ensures a higher level of accuracy.\n",
    "\n",
    "Polymorphism. Objects are designed to share behaviors and they can take on more than one form. The program will determine which meaning or usage is necessary for each execution of that object from a parent class, reducing the need to duplicate code. A child class is then created, which extends the functionality of the parent class. Polymorphism allows different types of objects to pass through the same interface."
   ]
  },
  {
   "cell_type": "markdown",
   "metadata": {},
   "source": [
    "### What are the benefits of OOP?\n",
    "\n",
    "Benefits of OOP include:\n",
    "\n",
    "Modularity. Encapsulation enables objects to be self-contained, making troubleshooting and collaborative development easier.\n",
    "\n",
    "Reusability. Code can be reused through inheritance, meaning a team does not have to write the same code multiple times.\n",
    "\n",
    "Productivity. Programmers can construct new programs quicker through the use of multiple libraries and reusable code.\n",
    "\n",
    "Easily upgradable and scalable. Programmers can implement system functionalities independently.\n",
    "\n",
    "Interface descriptions. Descriptions of external systems are simple, due to message passing techniques that are used for objects communication.\n",
    "\n",
    "Security. Using encapsulation and abstraction, complex code is hidden, software maintenance is easier and internet protocols are protected.\n",
    "\n",
    "Flexibility. Polymorphism enables a single function to adapt to the class it is placed in. Different objects can also pass through the same interface."
   ]
  }
 ],
 "metadata": {
  "kernelspec": {
   "display_name": "Python 3.10.7 64-bit",
   "language": "python",
   "name": "python3"
  },
  "language_info": {
   "name": "python",
   "version": "3.10.7"
  },
  "orig_nbformat": 4,
  "vscode": {
   "interpreter": {
    "hash": "6f5b53ea504ebfa04f8fb7433339a268f74c2ccc58003020fc3ce3105a10d9ba"
   }
  }
 },
 "nbformat": 4,
 "nbformat_minor": 2
}

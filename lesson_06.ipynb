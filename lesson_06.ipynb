{
 "cells": [
  {
   "cell_type": "markdown",
   "metadata": {},
   "source": [
    "OOP Methods Exercise #1"
   ]
  },
  {
   "cell_type": "code",
   "execution_count": 6,
   "metadata": {},
   "outputs": [],
   "source": [
    "class Student:\n",
    "    def __init__(self, name, marks):\n",
    "        self.name       = name\n",
    "        self.marks      = marks\n",
    "\n",
    "    def result(self):\n",
    "        if self.marks >= 500:\n",
    "            return 'Pass'\n",
    "        else:\n",
    "            return 'Fail'"
   ]
  },
  {
   "cell_type": "code",
   "execution_count": 7,
   "metadata": {},
   "outputs": [],
   "source": [
    "s1 = Student('Sohail', 500)\n",
    "s2 = Student('Greg', 700)\n",
    "s3 = Student('Daniella', 300)\n",
    "s4 = Student('Vijay', 200)\n",
    "s5 = Student('Gopal', 400)\n",
    "s6 = Student('Gloria', 800)"
   ]
  },
  {
   "cell_type": "code",
   "execution_count": 8,
   "metadata": {},
   "outputs": [],
   "source": [
    "students_objects = [s1, s2, s3, s4, s5, s6]"
   ]
  },
  {
   "cell_type": "code",
   "execution_count": 19,
   "metadata": {},
   "outputs": [],
   "source": [
    "pass_students = []\n",
    "fail_students = []\n",
    "students_result = {}\n",
    "\n",
    "for x in students_objects:\n",
    "    if x.result() == 'Pass':\n",
    "        pass_students.append(x.name)\n",
    "        students_result['Pass Students'] = pass_students\n",
    "    else:\n",
    "        fail_students.append(x.name)\n",
    "        students_result['Fail Students'] = fail_students"
   ]
  },
  {
   "cell_type": "code",
   "execution_count": 20,
   "metadata": {},
   "outputs": [
    {
     "data": {
      "text/plain": [
       "{'Pass Students': ['Sohail', 'Greg', 'Gloria'],\n",
       " 'Fail Students': ['Daniella', 'Vijay', 'Gopal']}"
      ]
     },
     "execution_count": 20,
     "metadata": {},
     "output_type": "execute_result"
    }
   ],
   "source": [
    "students_result"
   ]
  }
 ],
 "metadata": {
  "kernelspec": {
   "display_name": "Python 3.10.7 64-bit",
   "language": "python",
   "name": "python3"
  },
  "language_info": {
   "codemirror_mode": {
    "name": "ipython",
    "version": 3
   },
   "file_extension": ".py",
   "mimetype": "text/x-python",
   "name": "python",
   "nbconvert_exporter": "python",
   "pygments_lexer": "ipython3",
   "version": "3.10.7"
  },
  "orig_nbformat": 4,
  "vscode": {
   "interpreter": {
    "hash": "6f5b53ea504ebfa04f8fb7433339a268f74c2ccc58003020fc3ce3105a10d9ba"
   }
  }
 },
 "nbformat": 4,
 "nbformat_minor": 2
}
